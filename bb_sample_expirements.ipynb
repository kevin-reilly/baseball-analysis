{
 "cells": [
  {
   "cell_type": "code",
   "execution_count": 1,
   "metadata": {},
   "outputs": [
    {
     "name": "stdout",
     "output_type": "stream",
     "text": [
      "Total records:\n",
      "102816\n"
     ]
    }
   ],
   "source": [
    "import pandas as pd\n",
    "import numpy as np\n",
    "#import pandas_profiling\n",
    "\n",
    "path = r\"/Users/kevin.reilly/Library/CloudStorage/OneDrive-TheTradeDesk/repos/baseballdatabank/core/Batting.csv\"\n",
    "# 'r' is used to elminate the whitespace in the path.\n",
    "\n",
    "df = pd.read_csv(path)\n",
    "\n",
    "pop = len(df)\n",
    "print (\"Total records:\")\n",
    "print (pop)"
   ]
  },
  {
   "cell_type": "code",
   "execution_count": 2,
   "metadata": {},
   "outputs": [
    {
     "data": {
      "text/plain": [
       "count    102816.000000\n",
       "mean         37.139930\n",
       "std          52.603757\n",
       "min           0.000000\n",
       "25%           0.000000\n",
       "50%           9.000000\n",
       "75%          58.000000\n",
       "max         262.000000\n",
       "Name: H, dtype: float64"
      ]
     },
     "execution_count": 2,
     "metadata": {},
     "output_type": "execute_result"
    }
   ],
   "source": [
    "df['H'].describe()"
   ]
  },
  {
   "cell_type": "code",
   "execution_count": 3,
   "metadata": {},
   "outputs": [
    {
     "name": "stdout",
     "output_type": "stream",
     "text": [
      "Mean of population 37.14\n",
      "Mean of sample 38.60\n",
      "Standard deviation of sample 46.74\n"
     ]
    },
    {
     "data": {
      "text/html": [
       "<div>\n",
       "<style scoped>\n",
       "    .dataframe tbody tr th:only-of-type {\n",
       "        vertical-align: middle;\n",
       "    }\n",
       "\n",
       "    .dataframe tbody tr th {\n",
       "        vertical-align: top;\n",
       "    }\n",
       "\n",
       "    .dataframe thead th {\n",
       "        text-align: right;\n",
       "    }\n",
       "</style>\n",
       "<table border=\"1\" class=\"dataframe\">\n",
       "  <thead>\n",
       "    <tr style=\"text-align: right;\">\n",
       "      <th></th>\n",
       "      <th>playerID</th>\n",
       "      <th>yearID</th>\n",
       "      <th>H</th>\n",
       "    </tr>\n",
       "  </thead>\n",
       "  <tbody>\n",
       "    <tr>\n",
       "      <th>8500</th>\n",
       "      <td>woodbo01</td>\n",
       "      <td>1901</td>\n",
       "      <td>101</td>\n",
       "    </tr>\n",
       "    <tr>\n",
       "      <th>71742</th>\n",
       "      <td>treadje01</td>\n",
       "      <td>1993</td>\n",
       "      <td>67</td>\n",
       "    </tr>\n",
       "    <tr>\n",
       "      <th>41365</th>\n",
       "      <td>chancde01</td>\n",
       "      <td>1961</td>\n",
       "      <td>0</td>\n",
       "    </tr>\n",
       "    <tr>\n",
       "      <th>28113</th>\n",
       "      <td>andrest01</td>\n",
       "      <td>1939</td>\n",
       "      <td>6</td>\n",
       "    </tr>\n",
       "    <tr>\n",
       "      <th>74622</th>\n",
       "      <td>hermadu01</td>\n",
       "      <td>1996</td>\n",
       "      <td>0</td>\n",
       "    </tr>\n",
       "    <tr>\n",
       "      <th>11692</th>\n",
       "      <td>ellamro01</td>\n",
       "      <td>1909</td>\n",
       "      <td>4</td>\n",
       "    </tr>\n",
       "    <tr>\n",
       "      <th>99583</th>\n",
       "      <td>santada01</td>\n",
       "      <td>2014</td>\n",
       "      <td>129</td>\n",
       "    </tr>\n",
       "    <tr>\n",
       "      <th>64177</th>\n",
       "      <td>vangoda01</td>\n",
       "      <td>1986</td>\n",
       "      <td>0</td>\n",
       "    </tr>\n",
       "    <tr>\n",
       "      <th>12052</th>\n",
       "      <td>whitedo01</td>\n",
       "      <td>1909</td>\n",
       "      <td>45</td>\n",
       "    </tr>\n",
       "    <tr>\n",
       "      <th>38305</th>\n",
       "      <td>grammal01</td>\n",
       "      <td>1956</td>\n",
       "      <td>34</td>\n",
       "    </tr>\n",
       "  </tbody>\n",
       "</table>\n",
       "</div>"
      ],
      "text/plain": [
       "        playerID  yearID    H\n",
       "8500    woodbo01    1901  101\n",
       "71742  treadje01    1993   67\n",
       "41365  chancde01    1961    0\n",
       "28113  andrest01    1939    6\n",
       "74622  hermadu01    1996    0\n",
       "11692  ellamro01    1909    4\n",
       "99583  santada01    2014  129\n",
       "64177  vangoda01    1986    0\n",
       "12052  whitedo01    1909   45\n",
       "38305  grammal01    1956   34"
      ]
     },
     "execution_count": 3,
     "metadata": {},
     "output_type": "execute_result"
    }
   ],
   "source": [
    "pop_mean = df[\"H\"].mean()\n",
    "df_ten_per = df.sample(10)\n",
    "ten_mean = df_ten_per['H'].mean()\n",
    "ten_std = df_ten_per['H'].std()\n",
    "\n",
    "print(\"Mean of population \" + \"%.2f\" % pop_mean)\n",
    "print(\"Mean of sample \" + \"%.2f\" % ten_mean)\n",
    "print(\"Standard deviation of sample \" + \"%.2f\" % ten_std)\n",
    "\n",
    "df_ten_per[[\"playerID\", \"yearID\", \"H\"]]"
   ]
  },
  {
   "cell_type": "code",
   "execution_count": 4,
   "metadata": {},
   "outputs": [
    {
     "name": "stdout",
     "output_type": "stream",
     "text": [
      "Mean of 22.30\n"
     ]
    }
   ],
   "source": []
  }
 ],
 "metadata": {
  "kernelspec": {
   "display_name": "baseball",
   "language": "python",
   "name": "python3"
  },
  "language_info": {
   "codemirror_mode": {
    "name": "ipython",
    "version": 3
   },
   "file_extension": ".py",
   "mimetype": "text/x-python",
   "name": "python",
   "nbconvert_exporter": "python",
   "pygments_lexer": "ipython3",
   "version": "3.13.0"
  },
  "orig_nbformat": 4
 },
 "nbformat": 4,
 "nbformat_minor": 2
}
